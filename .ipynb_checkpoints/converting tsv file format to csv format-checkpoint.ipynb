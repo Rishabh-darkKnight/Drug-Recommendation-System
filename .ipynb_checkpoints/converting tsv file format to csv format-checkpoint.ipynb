{
 "cells": [
  {
   "cell_type": "code",
   "execution_count": 1,
   "id": "cdd0966b",
   "metadata": {},
   "outputs": [
    {
     "name": "stdout",
     "output_type": "stream",
     "text": [
      "Successfully made csv file\n"
     ]
    }
   ],
   "source": [
    "import pandas as pd\n",
    "tsv_file = 'drugsComTrain_raw.tsv'\n",
    "csv_table=pd.read_table(tsv_file,sep='\\t')# reading given tsv file\n",
    "csv_table.to_csv('drugsComTrain.csv',index=False)# converting tsv file into csv\n",
    "# output\n",
    "print(\"Successfully made csv file\")"
   ]
  },
  {
   "cell_type": "code",
   "execution_count": 2,
   "id": "2345c09b",
   "metadata": {},
   "outputs": [
    {
     "name": "stdout",
     "output_type": "stream",
     "text": [
      "Successfully made csv file\n"
     ]
    }
   ],
   "source": [
    "import pandas as pd\n",
    "tsv_file = 'drugsComTest_raw.tsv'\n",
    "csv_table=pd.read_table(tsv_file,sep='\\t')# reading given tsv file\n",
    "csv_table.to_csv('drugsComTest.csv',index=False)# converting tsv file into csv\n",
    "# output\n",
    "print(\"Successfully made csv file\")"
   ]
  },
  {
   "cell_type": "code",
   "execution_count": null,
   "id": "2a2ec970",
   "metadata": {},
   "outputs": [],
   "source": []
  }
 ],
 "metadata": {
  "kernelspec": {
   "display_name": "Python 3 (ipykernel)",
   "language": "python",
   "name": "python3"
  },
  "language_info": {
   "codemirror_mode": {
    "name": "ipython",
    "version": 3
   },
   "file_extension": ".py",
   "mimetype": "text/x-python",
   "name": "python",
   "nbconvert_exporter": "python",
   "pygments_lexer": "ipython3",
   "version": "3.9.13"
  }
 },
 "nbformat": 4,
 "nbformat_minor": 5
}
